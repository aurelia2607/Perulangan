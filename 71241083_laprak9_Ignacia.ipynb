{
  "nbformat": 4,
  "nbformat_minor": 0,
  "metadata": {
    "colab": {
      "provenance": [],
      "authorship_tag": "ABX9TyOmxgrj5leDEEjsXkY0VZZ0",
      "include_colab_link": true
    },
    "kernelspec": {
      "name": "python3",
      "display_name": "Python 3"
    },
    "language_info": {
      "name": "python"
    }
  },
  "cells": [
    {
      "cell_type": "markdown",
      "metadata": {
        "id": "view-in-github",
        "colab_type": "text"
      },
      "source": [
        "<a href=\"https://colab.research.google.com/github/aurelia2607/Perulangan/blob/main/71241083_laprak9_Ignacia.ipynb\" target=\"_parent\"><img src=\"https://colab.research.google.com/assets/colab-badge.svg\" alt=\"Open In Colab\"/></a>"
      ]
    },
    {
      "cell_type": "code",
      "execution_count": 3,
      "metadata": {
        "id": "gDU1qUbA-n1o",
        "colab": {
          "base_uri": "https://localhost:8080/"
        },
        "outputId": "62f1ac97-c4a7-4158-991b-e13c9f4468d2"
      },
      "outputs": [
        {
          "output_type": "stream",
          "name": "stdout",
          "text": [
            "Masukkan kata pertama: ikan\n",
            "Masukkan kata kedua: kani\n",
            "ikan adalah anagram dari kani.\n"
          ]
        }
      ],
      "source": [
        "def is_anagram(word1, word2):\n",
        "    word1 = word1.replace(\" \", \"\").lower()\n",
        "    word2 = word2.replace(\" \", \"\").lower()\n",
        "    return sorted(word1) == sorted(word2)\n",
        "\n",
        "kata1 = input(\"Masukkan kata pertama: \")\n",
        "kata2 = input(\"Masukkan kata kedua: \")\n",
        "\n",
        "if is_anagram(kata1, kata2):\n",
        "    print(f\"{kata1} adalah anagram dari {kata2}.\")\n",
        "else:\n",
        "    print(f\"{kata1} bukan anagram dari {kata2}.\")"
      ]
    },
    {
      "cell_type": "code",
      "source": [
        "def hitung_frekuensi(kalimatnya, kata):\n",
        "\n",
        "    kalimatnya = kalimatnya.lower()\n",
        "    kata = kata.lower()\n",
        "    frekuensi = kalimatnya.split().count(kata)\n",
        "    return frekuensi\n",
        "kalimatnya = \"Saya mau makan. Makan itu wajib. Mau siang atau malam saya wajib makan\"\n",
        "kata = \"makan\"\n",
        "\n",
        "frekuensi_kata = hitung_frekuensi(kalimatnya, kata)\n",
        "\n",
        "print(f\"{kata} ada {frekuensi_kata} buah.\")"
      ],
      "metadata": {
        "colab": {
          "base_uri": "https://localhost:8080/"
        },
        "id": "i1znoBXIgTrf",
        "outputId": "0530ef13-9185-46e6-ae75-03d99a312409"
      },
      "execution_count": 2,
      "outputs": [
        {
          "output_type": "stream",
          "name": "stdout",
          "text": [
            "makan ada 2 buah.\n"
          ]
        }
      ]
    },
    {
      "cell_type": "code",
      "source": [
        "def hapus_spasi_berlebih(teks):\n",
        "    teks_normal = ' '.join(teks.split())\n",
        "    return teks_normal\n",
        "\n",
        "kalimat = \"saya   tidak   suka   memancing   ikan   \"\n",
        "kalimat_normal = hapus_spasi_berlebih(kalimat)\n",
        "\n",
        "print(f'Output: \"{kalimat_normal}\"')"
      ],
      "metadata": {
        "colab": {
          "base_uri": "https://localhost:8080/"
        },
        "id": "uGaIximEgWZb",
        "outputId": "53506dc5-b7b6-4be4-cebb-2b0edcb74944"
      },
      "execution_count": 1,
      "outputs": [
        {
          "output_type": "stream",
          "name": "stdout",
          "text": [
            "Output: \"saya tidak suka memancing ikan\"\n"
          ]
        }
      ]
    },
    {
      "cell_type": "code",
      "source": [
        "def kata_terpendek_terpanjang(kalimat):\n",
        "    kata_kata = kalimat.split()\n",
        "    kata_terpendek = min(kata_kata, key=len)\n",
        "    kata_terpanjang = max(kata_kata, key=len)\n",
        "    return kata_terpendek, kata_terpanjang\n",
        "kalimat = input(\"Masukkan kalimat: \")\n",
        "terpendek, terpanjang = kata_terpendek_terpanjang(kalimat)\n",
        "print(f'Terpendek: {terpendek}, Terpanjang: {terpanjang}')"
      ],
      "metadata": {
        "colab": {
          "base_uri": "https://localhost:8080/"
        },
        "id": "7j5nbzj8hJqe",
        "outputId": "4c188fa2-c3c0-41d7-9905-6c55e64be9e2"
      },
      "execution_count": 4,
      "outputs": [
        {
          "output_type": "stream",
          "name": "stdout",
          "text": [
            "Masukkan kalimat: red snakes and a black frog in the pool\n",
            "Terpendek: a, Terpanjang: snakes\n"
          ]
        }
      ]
    },
    {
      "cell_type": "code",
      "source": [
        "import re\n",
        "from datetime import datetime\n",
        "\n",
        "def cari_tanggal(teks):\n",
        "    pola = r'\\b(\\d{4}-\\d{2}-\\d{2})\\b'\n",
        "    tanggal_ditemukan = re.findall(pola, teks)\n",
        "    tanggal_sekarang = datetime.now()\n",
        "\n",
        "    hasil = []\n",
        "\n",
        "    for tanggal in tanggal_ditemukan:\n",
        "        tgl_objek = datetime.strptime(tanggal, '%Y-%m-%d')\n",
        "\n",
        "        selisih_hari = (tanggal_sekarang - tgl_objek).days\n",
        "\n",
        "        tanggal_format_baru = tgl_objek.strftime('%d-%m-%Y')\n",
        "        hasil.append(f\"{tanggal} 00:00:00 selisih {selisih_hari} hari\")\n",
        "\n",
        "    return hasil\n",
        "\n",
        "teks = \"\"\"Pada tanggal 1945-08-17 Indonesia merdeka. Indonesia memiliki beberapa pahlawan\n",
        "nasional, seperti Pangeran Diponegoro (TL: 1785-11-11), Pattimura (TL: 1783-06-08) dan Ki\n",
        "Hajar Dewantara (1889-05-02).\"\"\"\n",
        "\n",
        "tanggal_hasil = cari_tanggal(teks)\n",
        "for item in tanggal_hasil:\n",
        "    print(item)"
      ],
      "metadata": {
        "colab": {
          "base_uri": "https://localhost:8080/"
        },
        "id": "j3aduYNthZx4",
        "outputId": "c4c8ec15-2c67-434b-f24c-107513f9de7f"
      },
      "execution_count": 5,
      "outputs": [
        {
          "output_type": "stream",
          "name": "stdout",
          "text": [
            "1945-08-17 00:00:00 selisih 29108 hari\n",
            "1785-11-11 00:00:00 selisih 87460 hari\n",
            "1783-06-08 00:00:00 selisih 88347 hari\n",
            "1889-05-02 00:00:00 selisih 49668 hari\n"
          ]
        }
      ]
    },
    {
      "cell_type": "code",
      "source": [
        "import re\n",
        "import random\n",
        "import string\n",
        "\n",
        "def generate_password(length=8):\n",
        "\n",
        "    characters = string.ascii_letters + string.digits\n",
        "    return ''.join(random.choice(characters) for _ in range(length))\n",
        "\n",
        "def cari_email(teks):\n",
        "    pola_email = r'\\b[A-Za-z0-9._%+-]+@[A-Za-z0-9.-]+\\.[A-Z|a-z]{2,}\\b'\n",
        "    email_ditemukan = re.findall(pola_email, teks)\n",
        "\n",
        "    hasil = []\n",
        "\n",
        "    for email in email_ditemukan:\n",
        "        username = email.split('@')[0]\n",
        "        password = generate_password()\n",
        "        hasil.append(f\"{email} username: {username} , password: {password}\")\n",
        "\n",
        "    return hasil\n",
        "\n",
        "teks = \"\"\"Berikut adalah daftar email dan nama pengguna dari mailing list:\n",
        "anton@mail.com dimiliki oleh antonius\n",
        "budi@gmail.co.id dimiliki oleh budi anwari\n",
        "slamet@getnada.com dimiliki oleh slamet slumut\n",
        "matahari@tokopedia.com dimiliki oleh toko matahari.\"\"\"\n",
        "\n",
        "email_hasil = cari_email(teks)\n",
        "\n",
        "for item in email_hasil:\n",
        "    print(item)"
      ],
      "metadata": {
        "colab": {
          "base_uri": "https://localhost:8080/"
        },
        "id": "xW8lKE2_iK04",
        "outputId": "57d2875d-b8ac-432d-b5cb-957a6a4e1cd8"
      },
      "execution_count": 6,
      "outputs": [
        {
          "output_type": "stream",
          "name": "stdout",
          "text": [
            "anton@mail.com username: anton , password: mBh1kyoM\n",
            "budi@gmail.co.id username: budi , password: 8AvNutXI\n",
            "slamet@getnada.com username: slamet , password: jaohgQbP\n",
            "matahari@tokopedia.com username: matahari , password: qmU8zGfo\n"
          ]
        }
      ]
    }
  ]
}