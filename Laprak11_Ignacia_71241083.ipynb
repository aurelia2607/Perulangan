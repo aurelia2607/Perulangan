{
  "nbformat": 4,
  "nbformat_minor": 0,
  "metadata": {
    "colab": {
      "provenance": [],
      "authorship_tag": "ABX9TyNZhUyF2S0RFeb3w3dmjakb",
      "include_colab_link": true
    },
    "kernelspec": {
      "name": "python3",
      "display_name": "Python 3"
    },
    "language_info": {
      "name": "python"
    }
  },
  "cells": [
    {
      "cell_type": "markdown",
      "metadata": {
        "id": "view-in-github",
        "colab_type": "text"
      },
      "source": [
        "<a href=\"https://colab.research.google.com/github/aurelia2607/Perulangan/blob/main/Laprak11_Ignacia_71241083.ipynb\" target=\"_parent\"><img src=\"https://colab.research.google.com/assets/colab-badge.svg\" alt=\"Open In Colab\"/></a>"
      ]
    },
    {
      "cell_type": "code",
      "execution_count": 1,
      "metadata": {
        "colab": {
          "base_uri": "https://localhost:8080/"
        },
        "id": "5pJwWPCPtqEy",
        "outputId": "c2ad98c1-8338-491a-8cd3-810a10454fad"
      },
      "outputs": [
        {
          "output_type": "stream",
          "name": "stdout",
          "text": [
            "key value item\n",
            "1 10 1\n",
            "2 20 2\n",
            "3 30 3\n",
            "4 40 4\n",
            "5 50 5\n",
            "6 60 6\n"
          ]
        }
      ],
      "source": [
        "data = {1: 10, 2: 20, 3: 30, 4: 40, 5: 50, 6: 60}\n",
        "print(\"key value item\")\n",
        "for key, value in data.items():\n",
        "    print(key, value, key)\n"
      ]
    },
    {
      "cell_type": "code",
      "source": [
        "lista = ['red', 'green', 'blue']\n",
        "listb = ['#FF0000', '#008000', '#0000FF']\n",
        "hasil = dict(zip(lista, listb))\n",
        "print(hasil)\n"
      ],
      "metadata": {
        "colab": {
          "base_uri": "https://localhost:8080/"
        },
        "id": "B8ApZJ7JuXKV",
        "outputId": "aebb0aa6-06e0-4acc-a04b-6615b7c1e123"
      },
      "execution_count": 3,
      "outputs": [
        {
          "output_type": "stream",
          "name": "stdout",
          "text": [
            "{'red': '#FF0000', 'green': '#008000', 'blue': '#0000FF'}\n"
          ]
        }
      ]
    }
  ]
}