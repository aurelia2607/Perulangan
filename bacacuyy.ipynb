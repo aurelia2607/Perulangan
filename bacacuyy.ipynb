{
  "nbformat": 4,
  "nbformat_minor": 0,
  "metadata": {
    "colab": {
      "provenance": [],
      "authorship_tag": "ABX9TyORif56972r+zfIuj4cWxBj",
      "include_colab_link": true
    },
    "kernelspec": {
      "name": "python3",
      "display_name": "Python 3"
    },
    "language_info": {
      "name": "python"
    }
  },
  "cells": [
    {
      "cell_type": "markdown",
      "metadata": {
        "id": "view-in-github",
        "colab_type": "text"
      },
      "source": [
        "<a href=\"https://colab.research.google.com/github/aurelia2607/Perulangan/blob/main/bacacuyy.ipynb\" target=\"_parent\"><img src=\"https://colab.research.google.com/assets/colab-badge.svg\" alt=\"Open In Colab\"/></a>"
      ]
    },
    {
      "cell_type": "code",
      "execution_count": 1,
      "metadata": {
        "colab": {
          "base_uri": "https://localhost:8080/"
        },
        "id": "qvLqui0IvrgH",
        "outputId": "f21a33e8-53c4-46b9-a441-2af5f2d64d9b"
      },
      "outputs": [
        {
          "output_type": "stream",
          "name": "stdout",
          "text": [
            "Masukkan nilai (atau -1 untuk berhenti): 1000\n",
            "Masukkan nilai (atau -1 untuk berhenti): 100\n",
            "Masukkan nilai (atau -1 untuk berhenti): 500\n",
            "Masukkan nilai (atau -1 untuk berhenti): -1\n",
            "Rata-rata nilai yang valid (lebih dari 60) adalah: 533.3\n"
          ]
        }
      ],
      "source": [
        "def hitung_rata_rata():\n",
        "    total_nilai = 0\n",
        "    jumlah_nilai = 0\n",
        "\n",
        "    while True:\n",
        "        nilai = int(input(\"Masukkan nilai (atau -1 untuk berhenti): \"))\n",
        "        if nilai == -1:\n",
        "            break\n",
        "        if nilai > 60:\n",
        "            total_nilai += nilai\n",
        "            jumlah_nilai += 1\n",
        "\n",
        "    if jumlah_nilai > 0:\n",
        "        rata_rata = total_nilai / jumlah_nilai\n",
        "        print(f\"Rata-rata nilai yang valid (lebih dari 60) adalah: {rata_rata:.1f}\")\n",
        "    else:\n",
        "        print(\"Tidak ada nilai yang valid.\")\n",
        "\n",
        "hitung_rata_rata()\n",
        "#Buatlah program yang meminta pengguna untuk memasukkan sejumlah nilai (integer) hingga pengguna memasukkan nilai -1 untuk menghentikan input.\n",
        "#Program harus menghitung dan menampilkan rata-rata nilai yang dimasukkan, tetapi hanya untuk nilai yang lebih besar dari 60.\n",
        "#Jika tidak ada nilai yang valid, tampilkan pesan yang sesuai.\n"
      ]
    },
    {
      "cell_type": "code",
      "source": [
        "#Buatlah program yang mencetak pola segitiga bintang berdasarkan tinggi yang dimasukkan oleh pengguna. Setiap baris harus mencetak bintang yang berkurang satu per baris,\n",
        "#tetapi hanya jika baris tersebut adalah bilangan genap, cetak juga angka baris tersebut di sebelah kanan bintang.\n",
        "def segitiga_bintang():\n",
        "    tinggi = int(input(\"Masukkan tinggi segitiga: \"))\n",
        "\n",
        "    for i in range(tinggi, 0, -1):\n",
        "        if i % 2 == 0:\n",
        "            print('*' * i, i)\n",
        "        else:\n",
        "            print('*' * i)\n",
        "\n",
        "segitiga_bintang()"
      ],
      "metadata": {
        "colab": {
          "base_uri": "https://localhost:8080/"
        },
        "id": "Flw3wDkEwcyC",
        "outputId": "5ce06048-f0ac-4473-d148-d313cc28edab"
      },
      "execution_count": 2,
      "outputs": [
        {
          "output_type": "stream",
          "name": "stdout",
          "text": [
            "Masukkan tinggi segitiga: 5\n",
            "*****\n",
            "**** 4\n",
            "***\n",
            "** 2\n",
            "*\n"
          ]
        }
      ]
    },
    {
      "cell_type": "code",
      "source": [
        "def bilangan_prima():\n",
        "    n = int(input(\"Masukkan batas atas N: \"))\n",
        "    print(\"Bilangan prima dari 1 hingga\", n, \":\", end=\" \")\n",
        "\n",
        "    for num in range(2, n + 1):\n",
        "        is_prima = True\n",
        "        for i in range(2, int(num**0.5) + 1):\n",
        "            if num % i == 0:\n",
        "                is_prima = False\n",
        "                break\n",
        "        if is_prima:\n",
        "            print(num, end=\", \")\n",
        "\n",
        "    print()\n",
        "\n",
        "bilangan_prima()"
      ],
      "metadata": {
        "id": "UYsobadQw3Sb"
      },
      "execution_count": null,
      "outputs": []
    },
    {
      "cell_type": "code",
      "source": [
        "from itertools import permutations\n",
        "\n",
        "def permutasi_angka():\n",
        "    angka = input(\"Masukkan 3 angka (pisahkan dengan spasi): \").split()\n",
        "    perm = permutations(angka)\n",
        "\n",
        "    print(\"Permutasi:\")\n",
        "    for p in perm:\n",
        "        print(''.join(p))\n",
        "\n",
        "permutasi_angka()"
      ],
      "metadata": {
        "id": "D7HS9evzw7co"
      },
      "execution_count": null,
      "outputs": []
    },
    {
      "cell_type": "code",
      "source": [
        "def klasifikasi_angka():\n",
        "    positif = 0\n",
        "    negatif = 0\n",
        "    nol = 0\n",
        "\n",
        "    for _ in range(10):\n",
        "        angka = int(input(\"Masukkan angka: \"))\n",
        "        if angka > 0:\n",
        "            positif += 1\n",
        "        elif angka < 0:\n",
        "            negatif += 1\n",
        "        else:\n",
        "            nol += 1\n",
        "\n",
        "    print(f\"Jumlah positif: {positif}\")\n",
        "    print(f\"Jumlah negatif: {negatif}\")\n",
        "    print(f\"Jumlah nol: {nol}\")\n",
        "\n",
        "klasifikasi_angka()"
      ],
      "metadata": {
        "id": "4N192Fojw-vv"
      },
      "execution_count": null,
      "outputs": []
    },
    {
      "cell_type": "code",
      "source": [
        "def deret_fibonacci_genap():\n",
        "    n = int(input(\"Masukkan nilai N: \"))\n",
        "    a, b = 0, 1\n",
        "    print(\"Deret Fibonacci genap lebih dari 2:\", end=\" \")\n",
        "\n",
        "    while b <= n:\n",
        "        if b > 2 and b % 2 == 0:\n",
        "            print(b, end=\" \")\n",
        "        a, b = b, a + b\n",
        "\n",
        "    print()\n",
        "\n",
        "deret_fibonacci_genap()"
      ],
      "metadata": {
        "id": "YJqtn__ExBbR"
      },
      "execution_count": null,
      "outputs": []
    },
    {
      "cell_type": "code",
      "source": [
        "def kalkulator_rusak():\n",
        "    input_string = input(\"Masukkan string: \")\n",
        "    # Menghapus semua karakter yang bukan huruf\n",
        "    cleaned_string = ''.join(char for char in input_string if char.isalpha())\n",
        "\n",
        "    if cleaned_string:\n",
        "        print(cleaned_string)\n",
        "    else:\n",
        "        print(\"Bukan\")\n",
        "\n",
        "kalkulator_rusak()"
      ],
      "metadata": {
        "id": "yNVqhPfFxhNy"
      },
      "execution_count": null,
      "outputs": []
    },
    {
      "cell_type": "code",
      "source": [
        "def kalkulator_rusak_hitung_karakter():\n",
        "    input_string = input(\"Masukkan string: \")\n",
        "    huruf = sum(c.isalpha() for c in input_string)\n",
        "    angka = sum(c.isdigit() for c in input_string)\n",
        "    karakter_khusus = sum(not c.isalnum() and not c.isspace() for c in input_string)\n",
        "\n",
        "    print(f\"Huruf: {huruf}, Angka: {angka}, Karakter Khusus: {karakter_khusus}\")\n",
        "\n",
        "kalkulator_rusak_hitung_karakter()\n"
      ],
      "metadata": {
        "colab": {
          "base_uri": "https://localhost:8080/"
        },
        "id": "tUJqtEncx6AI",
        "outputId": "e9ebc519-97c5-44ea-8285-8a0a0f0f7011"
      },
      "execution_count": 3,
      "outputs": [
        {
          "output_type": "stream",
          "name": "stdout",
          "text": [
            "Masukkan string: banyak caranya\n",
            "Huruf: 13, Angka: 0, Karakter Khusus: 0\n"
          ]
        }
      ]
    },
    {
      "cell_type": "code",
      "source": [
        "def kalkulator_rusak_hitung_karakter():\n",
        "    input_string = input(\"Masukkan string: \")\n",
        "    huruf = sum(c.isalpha() for c in input_string)\n",
        "    angka = sum(c.isdigit() for c in input_string)\n",
        "    karakter_khusus = sum(not c.isalnum() and not c.isspace() for c in input_string)\n",
        "\n",
        "    print(f\"Huruf: {huruf}, Angka: {angka}, Karakter Khusus: {karakter_khusus}\")\n",
        "\n",
        "kalkulator_rusak_hitung_karakter()"
      ],
      "metadata": {
        "id": "fBx9XbtyyMQG"
      },
      "execution_count": null,
      "outputs": []
    },
    {
      "cell_type": "code",
      "source": [
        "def deret_fibonacci_genap():\n",
        "    n = int(input(\"Masukkan nilai N: \"))\n",
        "    a, b = 0, 1\n",
        "    genap_list = []\n",
        "\n",
        "    while b <= n:\n",
        "        if b % 2 == 0:\n",
        "            genap_list.append(b)\n",
        "        a, b = b, a + b\n",
        "\n",
        "    if genap_list:\n",
        "        print(\"Deret Fibonacci genap hingga\", n, \":\", ', '.join(map(str, genap_list)))\n",
        "    else:\n",
        "        print(\"Tidak ada angka genap dalam deret Fibonacci hingga\", n)\n",
        "\n",
        "deret_fibonacci_genap()"
      ],
      "metadata": {
        "id": "ULNubykZyNS5"
      },
      "execution_count": null,
      "outputs": []
    },
    {
      "cell_type": "code",
      "source": [
        "def deret_fibonacci_genap():\n",
        "    n = int(input(\"Masukkan nilai N: \"))\n",
        "    a, b = 0, 1\n",
        "    genap_list = []\n",
        "\n",
        "    while b <= n:\n",
        "        if b % 2 == 0:\n",
        "            genap_list.append(b)\n",
        "        a, b = b, a + b\n",
        "\n",
        "    if genap_list:\n",
        "        print(\"Deret Fibonacci genap hingga\", n, \":\", ', '.join(map(str, genap_list)))\n",
        "    else:\n",
        "        print(\"Tidak ada angka genap dalam deret Fibonacci hingga\", n)\n",
        "\n",
        "deret_fibonacci_genap()"
      ],
      "metadata": {
        "id": "iDYmtRAzyQVO"
      },
      "execution_count": null,
      "outputs": []
    },
    {
      "cell_type": "code",
      "source": [
        "def bilangan_prima():\n",
        "    n = int(input(\"Masukkan batas atas N: \"))\n",
        "    print(\"Bilangan prima dari 1 hingga\", n, \":\", end=\" \")\n",
        "\n",
        "    for num in range(2, n + 1):\n",
        "        is_prima = True\n",
        "        i = 2\n",
        "        while i * i <= num:\n",
        "            if num % i == 0:\n",
        "                is_prima = False\n",
        "                break\n",
        "            i += 1\n",
        "        if is_prima:\n",
        "            print(num, end=\", \")\n",
        "\n",
        "    print()\n",
        "\n",
        "bilangan_prima()"
      ],
      "metadata": {
        "id": "3Uo9Qjv0ygk9"
      },
      "execution_count": null,
      "outputs": []
    },
    {
      "cell_type": "code",
      "source": [
        "def hitung_jumlah_digit():\n",
        "    angka = int(input(\"Masukkan angka: \"))\n",
        "    if angka < 0:\n",
        "        angka = -angka  # Mengubah angka menjadi positif\n",
        "\n",
        "    jumlah_digit = 0\n",
        "    while angka > 0:\n",
        "        angka //= 10\n",
        "        jumlah_digit += 1\n",
        "\n",
        "    print(f\"Jumlah digit: {jumlah_digit}\")\n",
        "\n",
        "hitung_jumlah_digit()"
      ],
      "metadata": {
        "id": "aJLeMXzfyh-K"
      },
      "execution_count": null,
      "outputs": []
    },
    {
      "cell_type": "code",
      "source": [
        "def pembalik_string():\n",
        "    input_string = input(\"Masukkan string: \")\n",
        "    if not input_string:\n",
        "        print(\"String kosong.\")\n",
        "        return\n",
        "\n",
        "    reversed_string = \"\"\n",
        "    for char in input_string:\n",
        "        reversed_string = char + reversed_string  # Menambahkan karakter di depan\n",
        "\n",
        "    print(f\"String yang dibalik: {reversed_string}\")\n",
        "\n",
        "pembalik_string()"
      ],
      "metadata": {
        "id": "je57t8x2ylb-"
      },
      "execution_count": null,
      "outputs": []
    },
    {
      "cell_type": "code",
      "source": [
        "def kalkulator():\n",
        "    while True:\n",
        "        try:\n",
        "            angka1 = float(input(\"Masukkan angka pertama: \"))\n",
        "            angka2 = float(input(\"Masukkan angka kedua: \"))\n",
        "            operator = input(\"Masukkan operator (+, -, *, /): \")\n",
        "\n",
        "            if operator == '+':\n",
        "                hasil = angka1 + angka2\n",
        "            elif operator == '-':\n",
        "                hasil = angka1 - angka2\n",
        "            elif operator == '*':\n",
        "                hasil = angka1 * angka2\n",
        "            elif operator == '/':\n",
        "                if angka2 == 0:\n",
        "                    print(\"Error: Pembagian dengan nol tidak diperbolehkan.\")\n",
        "                    continue\n",
        "                hasil = angka1 / angka2\n",
        "            else:\n",
        "                print(\"Operator tidak valid. Silakan coba lagi.\")\n",
        "                continue\n",
        "\n",
        "            print(f\"Hasil: {hasil}\")\n",
        "\n",
        "        except ValueError:\n",
        "            print(\"Input tidak valid. Silakan masukkan angka yang benar.\")\n",
        "\n",
        "        lanjut = input(\"Apakah Anda ingin melanjutkan? (y/n): \")\n",
        "        if lanjut.lower() != 'y':\n",
        "            break\n",
        "\n",
        "kalkulator()"
      ],
      "metadata": {
        "id": "VZFLhIYcyqG-"
      },
      "execution_count": null,
      "outputs": []
    },
    {
      "cell_type": "code",
      "source": [
        "def manajemen_nilai_siswa():\n",
        "    data_siswa = {}\n",
        "\n",
        "    while True:\n",
        "        nama = input(\"Masukkan nama siswa (atau 'selesai' untuk berhenti): \")\n",
        "        if nama.lower() == 'selesai':\n",
        "            break\n",
        "        try:\n",
        "            nilai = float(input(\"Masukkan nilai siswa: \"))\n",
        "            data_siswa[nama] = nilai\n",
        "        except ValueError:\n",
        "            print(\"Nilai tidak valid. Silakan masukkan angka.\")\n",
        "\n",
        "    if not data_siswa:\n",
        "        print(\"Tidak ada data siswa yang dimasukkan.\")\n",
        "        return\n",
        "\n",
        "    total_nilai = 0\n",
        "    siswa_tertinggi = \"\"\n",
        "    nilai_tertinggi = float('-inf')\n",
        "\n",
        "    for nama, nilai in data_siswa.items():\n",
        "        total_nilai += nilai\n",
        "        if nilai > nilai_tertinggi:\n",
        "            nilai_tertinggi = nilai\n",
        "            siswa_tertinggi = nama\n",
        "\n",
        "    jumlah_siswa = len(data_siswa)\n",
        "    rata_rata = total_nilai / jumlah_siswa\n",
        "\n",
        "    print(f\"Jumlah siswa: {jumlah_siswa}\")\n",
        "    print(f\"Rata-rata nilai: {rata_rata:.2f}\")\n",
        "    print(f\"Siswa dengan nilai tertinggi: {siswa_tertinggi} ({nilai_tertinggi})\")\n",
        "\n",
        "manajemen_nilai_siswa()"
      ],
      "metadata": {
        "id": "dCGzmeU8y0wN"
      },
      "execution_count": null,
      "outputs": []
    },
    {
      "cell_type": "code",
      "source": [
        "import random\n",
        "\n",
        "def tebak_angka():\n",
        "    angka_rahasia = random.randint(1, 100)\n",
        "    tebakan = None\n",
        "\n",
        "    while tebakan != angka_rahasia:\n",
        "        try:\n",
        "            tebakan = int(input(\"Tebak angka antara 1 hingga 100: \"))\n",
        "            if tebakan < angka_rahasia:\n",
        "                print(\"Tebakan terlalu rendah!\")\n",
        "            elif tebakan > angka_rahasia:\n",
        "                print(\"Tebakan terlalu tinggi!\")\n",
        "            else:\n",
        "                print(\"Selamat! Anda menebak angka yang benar.\")\n",
        "        except ValueError:\n",
        "            print(\"Silakan masukkan angka yang valid.\")\n",
        "\n",
        "tebak_angka()"
      ],
      "metadata": {
        "id": "qgZqRMrvy_BJ"
      },
      "execution_count": null,
      "outputs": []
    },
    {
      "cell_type": "code",
      "source": [
        "def manajemen_inventaris():\n",
        "    inventaris = {}\n",
        "\n",
        "    while True:\n",
        "        print(\"\\n1. Tambah barang\")\n",
        "        print(\"2. Hapus barang\")\n",
        "        print(\"3. Tampilkan inventaris\")\n",
        "        print(\"4. Keluar\")\n",
        "        opsi = input(\"Pilih opsi: \")\n",
        "\n",
        "        if opsi == '1':\n",
        "            nama_barang = input(\"Masukkan nama barang: \")\n",
        "            jumlah = int(input(\"Masukkan jumlah: \"))\n",
        "            if nama_barang in inventaris:\n",
        "                inventaris[nama_barang] += jumlah\n",
        "            else:\n",
        "                inventaris[nama_barang] = jumlah\n",
        "            print(f\"{jumlah} {nama_barang} telah ditambahkan.\")\n",
        "\n",
        "        elif opsi == '2':\n",
        "            nama_barang = input(\"Masukkan nama barang yang ingin dihapus: \")\n",
        "            if nama_barang in inventaris:\n",
        "                del inventaris[nama_barang]\n",
        "                print(f\"{nama_barang} telah dihapus dari inventaris.\")\n",
        "            else:\n",
        "                print(\"Barang tidak ditemukan dalam inventaris.\")\n",
        "\n",
        "        elif opsi == '3':\n",
        "            print(\"Inventaris:\")\n",
        "            for barang, jumlah in inventaris.items():\n",
        "                print(f\"{barang}: {jumlah}\")\n",
        "\n",
        "        elif opsi == '4':\n",
        "            print(\"Keluar dari program.\")\n",
        "            break\n",
        "\n",
        "        else:\n",
        "            print(\"Opsi tidak valid. Silakan coba lagi.\")\n",
        "\n",
        "manajemen_inventaris()"
      ],
      "metadata": {
        "id": "zaetJ9BWzO7L"
      },
      "execution_count": null,
      "outputs": []
    },
    {
      "cell_type": "code",
      "source": [
        "def validasi_password():\n",
        "    while True:\n",
        "        password = input(\"Masukkan password: \")\n",
        "\n",
        "        if len(password) < 8:\n",
        "            print(\"Password tidak valid. Minimal 8 karakter. Coba lagi.\")\n",
        "            continue\n",
        "\n",
        "        if not any(char.isupper() for char in password):\n",
        "            print(\"Password tidak valid. Harus ada setidaknya satu huruf besar. Coba lagi.\")\n",
        "            continue\n",
        "\n",
        "        if not any(char.islower() for char in password):\n",
        "            print(\"Password tidak valid. Harus ada setidaknya satu huruf kecil. Coba lagi.\")\n",
        "            continue\n",
        "\n",
        "        if not any(char.isdigit() for char in password):\n",
        "            print(\"Password tidak valid. Harus ada setidaknya satu angka. Coba lagi.\")\n",
        "            continue\n",
        "\n",
        "        print(\"Password valid.\")\n",
        "        break\n",
        "\n",
        "validasi_password()"
      ],
      "metadata": {
        "id": "ygmfdy6bzXmm"
      },
      "execution_count": null,
      "outputs": []
    },
    {
      "cell_type": "code",
      "source": [
        "def hitung_jumlah_kata():\n",
        "    while True:\n",
        "        kalimat = input(\"Masukkan kalimat (atau 'keluar' untuk berhenti): \")\n",
        "        if kalimat.lower() == 'keluar':\n",
        "            print(\"Keluar dari program.\")\n",
        "            break\n",
        "\n",
        "        jumlah_kata = len(kalimat.split())\n",
        "        print(f\"Jumlah kata: {jumlah_kata}\")\n",
        "\n",
        "hitung_jumlah_kata()"
      ],
      "metadata": {
        "id": "uOk2ExcU0MDs"
      },
      "execution_count": null,
      "outputs": []
    },
    {
      "cell_type": "code",
      "source": [
        "def hitung_digit_genap_ganjil():\n",
        "    angka = input(\"Masukkan angka: \")\n",
        "    jumlah_genap = 0\n",
        "    jumlah_ganjil = 0\n",
        "\n",
        "    for char in angka:\n",
        "        if char.isdigit():  # Memastikan karakter adalah digit\n",
        "            if int(char) % 2 == 0:\n",
        "                jumlah_genap += 1\n",
        "            else:\n",
        "                jumlah_ganjil += 1\n",
        "\n",
        "    print(f\"Jumlah digit genap: {jumlah_genap}\")\n",
        "    print(f\"Jumlah digit ganjil: {jumlah_ganjil}\")\n",
        "\n",
        "hitung_digit_genap_ganjil()"
      ],
      "metadata": {
        "id": "VDrABY-K0M_6"
      },
      "execution_count": null,
      "outputs": []
    },
    {
      "cell_type": "code",
      "source": [
        "def hitung_vokal_dan_konsonan():\n",
        "    kalimat = input(\"Masukkan kalimat: \")\n",
        "    vokal = \"aeiouAEIOU\"\n",
        "    jumlah_vokal = 0\n",
        "    jumlah_konsonan = 0\n",
        "\n",
        "    for char in kalimat:\n",
        "        if char.isalpha():  # Memastikan karakter adalah huruf\n",
        "            if char in vokal:\n",
        "                jumlah_vokal += 1\n",
        "            else:\n",
        "                jumlah_konsonan += 1\n",
        "\n",
        "    print(f\"Jumlah vokal: {jumlah_vokal}\")\n",
        "    print(f\"Jumlah konsonan: {jumlah_konsonan}\")\n",
        "\n",
        "hitung_vokal_dan_konsonan()"
      ],
      "metadata": {
        "id": "P_ySXMgT0aiU"
      },
      "execution_count": null,
      "outputs": []
    },
    {
      "cell_type": "code",
      "source": [
        "def cetak_segitiga_bintang():\n",
        "    tinggi = int(input(\"Masukkan tinggi segitiga: \"))\n",
        "\n",
        "    for i in range(tinggi):\n",
        "        # Mencetak spasi\n",
        "        for j in range(tinggi - i - 1):\n",
        "            print(\" \", end=\"\")\n",
        "        # Mencetak bintang\n",
        "        for k in range(2 * i + 1):\n",
        "            print(\"*\", end=\"\")\n",
        "        print()  # Pindah ke baris berikutnya\n",
        "\n",
        "cetak_segitiga_bintang()"
      ],
      "metadata": {
        "id": "Lp8ECqoy0bYm"
      },
      "execution_count": null,
      "outputs": []
    },
    {
      "cell_type": "code",
      "source": [
        "def cetak_bilangan_genap():\n",
        "    n = int(input(\"Masukkan batas atas N: \"))\n",
        "    bilangan_genap = []\n",
        "\n",
        "    for i in range(0, n + 1, 2):\n",
        "        bilangan_genap.append(i)\n",
        "\n",
        "    print(\"Bilangan genap dari 0 hingga\", n, \":\", ', '.join(map(str, bilangan_genap)))\n",
        "\n",
        "cetak_bilangan_genap()"
      ],
      "metadata": {
        "id": "xGpYu2wg06xb"
      },
      "execution_count": null,
      "outputs": []
    },
    {
      "cell_type": "code",
      "source": [
        "def cetak_tabel_perkalian():\n",
        "    angka = int(input(\"Masukkan angka: \"))\n",
        "    print(f\"Tabel perkalian {angka}:\")\n",
        "\n",
        "    for i in range(1, 11):\n",
        "        hasil = angka * i\n",
        "        print(f\"{angka} x {i} = {hasil}\")\n",
        "\n",
        "cetak_tabel_perkalian()"
      ],
      "metadata": {
        "id": "Au_FgtHH1Jsf"
      },
      "execution_count": null,
      "outputs": []
    },
    {
      "cell_type": "code",
      "source": [
        "def cetak_huruf_h():\n",
        "    tinggi = int(input(\"Masukkan tinggi huruf H: \"))\n",
        "\n",
        "    for i in range(tinggi):\n",
        "        if i == tinggi // 2:\n",
        "            print(\"*\" * (tinggi * 2 - 1))  # Mencetak garis tengah\n",
        "        else:\n",
        "            print(\"*\" + \" \" * (tinggi * 2 - 3) + \"*\")  # Mencetak sisi\n",
        "\n",
        "cetak_huruf_h()"
      ],
      "metadata": {
        "id": "SB30GlNo1O_E"
      },
      "execution_count": null,
      "outputs": []
    },
    {
      "cell_type": "code",
      "source": [
        "def cetak_huruf_a():\n",
        "    tinggi = int(input(\"Masukkan tinggi huruf A: \"))\n",
        "\n",
        "    for i in range(tinggi):\n",
        "        for j in range(tinggi - i - 1):\n",
        "            print(\" \", end=\"\")\n",
        "        print(\"*\", end=\"\")\n",
        "        if i > 0:\n",
        "            for j in range(2 * i - 1):\n",
        "                print(\" \", end=\"\")\n",
        "            if i > 0:\n",
        "                print(\"*\", end=\"\")\n",
        "        print()  # Pindah ke baris berikutnya\n",
        "\n",
        "cetak_huruf_a()"
      ],
      "metadata": {
        "id": "UaAPvhR72jwK"
      },
      "execution_count": null,
      "outputs": []
    },
    {
      "cell_type": "code",
      "source": [
        "def cetak_huruf_x():\n",
        "    tinggi = int(input(\"Masukkan tinggi huruf X: \"))\n",
        "\n",
        "    for i in range(tinggi):\n",
        "        for j in range(tinggi):\n",
        "            if j == i or j == (tinggi - i - 1):\n",
        "                print(\"*\", end=\"\")\n",
        "            else:\n",
        "                print(\" \", end=\"\")\n",
        "        print()  # Pindah ke baris berikutnya\n",
        "\n",
        "cetak_huruf_x()"
      ],
      "metadata": {
        "id": "GoFpyRyW2piK"
      },
      "execution_count": null,
      "outputs": []
    },
    {
      "cell_type": "code",
      "source": [
        "def cetak_huruf_m():\n",
        "    tinggi = int(input(\"Masukkan tinggi huruf M: \"))\n",
        "\n",
        "    for i in range(tinggi):\n",
        "        for j in range(tinggi * 2 - 1):\n",
        "            if j == 0 or j == (tinggi * 2 - 2):\n",
        "                print(\"*\", end=\"\")\n",
        "            elif j == i and j > 0 and j < tinggi:\n",
        "                print(\"*\", end=\"\")\n",
        "            elif j == (tinggi - 1) + i and j < tinggi * 2 - 1:\n",
        "                print(\"*\", end=\"\")\n",
        "            else:\n",
        "                print(\" \", end=\"\")\n",
        "        print()  # Pindah ke baris berikutnya\n",
        "\n",
        "cetak_huruf_m()"
      ],
      "metadata": {
        "id": "uH53HElE2rvn"
      },
      "execution_count": null,
      "outputs": []
    }
  ]
}